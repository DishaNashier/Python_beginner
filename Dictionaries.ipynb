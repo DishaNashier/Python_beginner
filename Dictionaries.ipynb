{
  "nbformat": 4,
  "nbformat_minor": 0,
  "metadata": {
    "colab": {
      "provenance": []
    },
    "kernelspec": {
      "name": "python3",
      "display_name": "Python 3"
    },
    "language_info": {
      "name": "python"
    }
  },
  "cells": [
    {
      "cell_type": "code",
      "execution_count": 15,
      "metadata": {
        "id": "nON0cvADH0-w"
      },
      "outputs": [],
      "source": [
        "# Revision Sets\n",
        "# Store immutable items\n",
        "# Can not store mutable(LSD- List,Set, Dictionaries) data types\n",
        "# s={{1,2,3,4,5}}❌ set inside a set\n",
        "#s={[1,2,3]} ❌ list inside a set"
      ]
    },
    {
      "cell_type": "code",
      "source": [
        "t=[[1,2],[3,4],{5,6}]\n",
        "a,b=t[1]\n",
        "print(a,b)"
      ],
      "metadata": {
        "colab": {
          "base_uri": "https://localhost:8080/"
        },
        "id": "yAqRKZMPWaFz",
        "outputId": "df9224b1-326b-45fa-9a09-c8b1e83230f3"
      },
      "execution_count": 16,
      "outputs": [
        {
          "output_type": "stream",
          "name": "stdout",
          "text": [
            "3 4\n"
          ]
        }
      ]
    },
    {
      "cell_type": "code",
      "source": [
        "# Topics to be covered\n",
        "# Dictionary\n",
        "# Properties/Methods\n",
        "# -dictionaries are not ordered in nature\n",
        "# -keys are similar to indexes meaning they are used to refere values\n",
        "# -Mutable -\n",
        "#------------add- dict_name['key']=value\n",
        "#------------update- using dict_name.update{}\n",
        "#------------delete- using dict_name.pop(\"Key_name\")\n",
        "# Iterate over dictionaries"
      ],
      "metadata": {
        "id": "iH--mqjXJZ0P"
      },
      "execution_count": 17,
      "outputs": []
    },
    {
      "cell_type": "code",
      "source": [
        "#Dictionary- there is a word and its meaning\n",
        "# d={word1 --> meaning 1,\n",
        "#    word2--> meaning 2 }\n",
        "# key:value"
      ],
      "metadata": {
        "id": "xEZ8F6tvWgY_"
      },
      "execution_count": 18,
      "outputs": []
    },
    {
      "cell_type": "code",
      "source": [
        "d={'random':'something which is not defined',\n",
        "   'apple':'a fruit',\n",
        "   'ship':'sea transportation'}"
      ],
      "metadata": {
        "id": "_WYgGA-9Xg0G"
      },
      "execution_count": 19,
      "outputs": []
    },
    {
      "cell_type": "code",
      "source": [
        "type(d)"
      ],
      "metadata": {
        "colab": {
          "base_uri": "https://localhost:8080/"
        },
        "id": "oO07-zBYX1zd",
        "outputId": "4935f106-739f-46c3-dafc-45407c230583"
      },
      "execution_count": 20,
      "outputs": [
        {
          "output_type": "execute_result",
          "data": {
            "text/plain": [
              "dict"
            ]
          },
          "metadata": {},
          "execution_count": 20
        }
      ]
    },
    {
      "cell_type": "code",
      "source": [
        "d['ship']"
      ],
      "metadata": {
        "colab": {
          "base_uri": "https://localhost:8080/",
          "height": 36
        },
        "id": "Zd5pKnTHX3PU",
        "outputId": "6bbb22dc-5892-4631-d9fe-48aeb979f598"
      },
      "execution_count": 21,
      "outputs": [
        {
          "output_type": "execute_result",
          "data": {
            "text/plain": [
              "'sea transportation'"
            ],
            "application/vnd.google.colaboratory.intrinsic+json": {
              "type": "string"
            }
          },
          "metadata": {},
          "execution_count": 21
        }
      ]
    },
    {
      "cell_type": "code",
      "source": [
        "# if key does not exist it will five error❌\n",
        "d['watch']"
      ],
      "metadata": {
        "colab": {
          "base_uri": "https://localhost:8080/",
          "height": 199
        },
        "id": "NoDyY9QhYe-Q",
        "outputId": "4b3ff6b9-6b83-42ab-8164-8d92922a70e7"
      },
      "execution_count": 22,
      "outputs": [
        {
          "output_type": "error",
          "ename": "KeyError",
          "evalue": "'watch'",
          "traceback": [
            "\u001b[0;31m---------------------------------------------------------------------------\u001b[0m",
            "\u001b[0;31mKeyError\u001b[0m                                  Traceback (most recent call last)",
            "\u001b[0;32m<ipython-input-22-03e86a8a7c34>\u001b[0m in \u001b[0;36m<cell line: 2>\u001b[0;34m()\u001b[0m\n\u001b[1;32m      1\u001b[0m \u001b[0;31m# if key does not exist it will five error❌\u001b[0m\u001b[0;34m\u001b[0m\u001b[0;34m\u001b[0m\u001b[0m\n\u001b[0;32m----> 2\u001b[0;31m \u001b[0md\u001b[0m\u001b[0;34m[\u001b[0m\u001b[0;34m'watch'\u001b[0m\u001b[0;34m]\u001b[0m\u001b[0;34m\u001b[0m\u001b[0;34m\u001b[0m\u001b[0m\n\u001b[0m",
            "\u001b[0;31mKeyError\u001b[0m: 'watch'"
          ]
        }
      ]
    },
    {
      "cell_type": "code",
      "source": [
        "state_wise_data={\"Delhi\":450,\"UP\":400,\"Haryana\":250}"
      ],
      "metadata": {
        "id": "Rzqs4oBQYyKm"
      },
      "execution_count": 25,
      "outputs": []
    },
    {
      "cell_type": "code",
      "source": [
        "state_wise_data[\"UP\"]# you dont need to know the index of keys or values"
      ],
      "metadata": {
        "colab": {
          "base_uri": "https://localhost:8080/"
        },
        "id": "poqzuMk9ZVv5",
        "outputId": "db86f421-36a7-444a-a8cf-10025fcf12b6"
      },
      "execution_count": 26,
      "outputs": [
        {
          "output_type": "execute_result",
          "data": {
            "text/plain": [
              "400"
            ]
          },
          "metadata": {},
          "execution_count": 26
        }
      ]
    },
    {
      "cell_type": "code",
      "source": [
        "# if you dont want to add any value you can keep None\n",
        "state_wise_data={\"Delhi\":450,\"UP\":400,\"Haryana\":250,\"MP\":None }"
      ],
      "metadata": {
        "id": "fv17M4kwZrln"
      },
      "execution_count": 27,
      "outputs": []
    },
    {
      "cell_type": "code",
      "source": [
        "type({3})"
      ],
      "metadata": {
        "colab": {
          "base_uri": "https://localhost:8080/"
        },
        "id": "LTIWuTLdaWiF",
        "outputId": "bd64f890-23f5-4e9c-d000-211ff1b7ece0"
      },
      "execution_count": 28,
      "outputs": [
        {
          "output_type": "execute_result",
          "data": {
            "text/plain": [
              "set"
            ]
          },
          "metadata": {},
          "execution_count": 28
        }
      ]
    },
    {
      "cell_type": "code",
      "source": [
        "type({3:30})"
      ],
      "metadata": {
        "colab": {
          "base_uri": "https://localhost:8080/"
        },
        "id": "kT_l-Oe8aYOa",
        "outputId": "2299034b-74ad-4220-f252-1b034a321cdf"
      },
      "execution_count": 29,
      "outputs": [
        {
          "output_type": "execute_result",
          "data": {
            "text/plain": [
              "dict"
            ]
          },
          "metadata": {},
          "execution_count": 29
        }
      ]
    },
    {
      "cell_type": "code",
      "source": [
        "# Why we need dictionaries and cannot work with tuples or lists\n",
        "state_wise_data_tup=[(\"Delhi\",450),(\"UP\",400),(\"Haryana\",250)]\n",
        "# If we decide to use tuples instead of dictionaries, we need to know index\n",
        "# which is time consuming process first we will find string than its index, than value\n",
        "print(state_wise_data_tup[2][1])"
      ],
      "metadata": {
        "colab": {
          "base_uri": "https://localhost:8080/"
        },
        "id": "L6jFN9xeake0",
        "outputId": "4563cbf6-69df-4392-b35c-4cc2133dd084"
      },
      "execution_count": 30,
      "outputs": [
        {
          "output_type": "stream",
          "name": "stdout",
          "text": [
            "250\n"
          ]
        }
      ]
    },
    {
      "cell_type": "code",
      "source": [
        "#if we use dictionaries we do not need to iterate\n",
        "state_wise_data={\"Delhi\":450,\"UP\":400,\"Haryana\":250}\n",
        "print(state_wise_data[\"Haryana\"])\n"
      ],
      "metadata": {
        "colab": {
          "base_uri": "https://localhost:8080/"
        },
        "id": "WB2X1XeYbuqg",
        "outputId": "fc02f566-b8c0-4617-fdea-3f0db6e82448"
      },
      "execution_count": 31,
      "outputs": [
        {
          "output_type": "stream",
          "name": "stdout",
          "text": [
            "250\n"
          ]
        }
      ]
    },
    {
      "cell_type": "code",
      "source": [
        "# empty dictionary\n",
        "d={}\n",
        "type(d)\n",
        "dict()"
      ],
      "metadata": {
        "colab": {
          "base_uri": "https://localhost:8080/"
        },
        "id": "Rqt7T55ScBGj",
        "outputId": "3f418f1e-766e-44f5-cb0e-a72965a9b36f"
      },
      "execution_count": 26,
      "outputs": [
        {
          "output_type": "execute_result",
          "data": {
            "text/plain": [
              "{}"
            ]
          },
          "metadata": {},
          "execution_count": 26
        }
      ]
    },
    {
      "cell_type": "code",
      "source": [
        "s=set()\n",
        "type(s)"
      ],
      "metadata": {
        "colab": {
          "base_uri": "https://localhost:8080/"
        },
        "id": "pVDsQjJCe5RH",
        "outputId": "14f924e0-7cc9-481a-acf5-df76fda5f1ac"
      },
      "execution_count": 32,
      "outputs": [
        {
          "output_type": "execute_result",
          "data": {
            "text/plain": [
              "set"
            ]
          },
          "metadata": {},
          "execution_count": 32
        }
      ]
    },
    {
      "cell_type": "code",
      "source": [
        "#Updating value of a key\n",
        "state_wise_data[\"Delhi\"]=500"
      ],
      "metadata": {
        "id": "kNaVlqXre9yt"
      },
      "execution_count": 33,
      "outputs": []
    },
    {
      "cell_type": "code",
      "source": [
        "state_wise_data[\"Delhi\"]"
      ],
      "metadata": {
        "colab": {
          "base_uri": "https://localhost:8080/"
        },
        "id": "TPdL7JkHfZO_",
        "outputId": "0516aa81-32b1-4407-9b2d-7336f9c8f082"
      },
      "execution_count": 34,
      "outputs": [
        {
          "output_type": "execute_result",
          "data": {
            "text/plain": [
              "500"
            ]
          },
          "metadata": {},
          "execution_count": 34
        }
      ]
    },
    {
      "cell_type": "code",
      "source": [
        "state_wise_data[\"Delhi\"]=800"
      ],
      "metadata": {
        "id": "oTHoJGx9gFLD"
      },
      "execution_count": 35,
      "outputs": []
    },
    {
      "cell_type": "code",
      "source": [
        "#If any key doesnot exist, as in the below code \"Delhi\"-key exist but not \"delhi\"\n",
        "#\n",
        "state_wise_data['delhi']=800\n",
        "print(state_wise_data)"
      ],
      "metadata": {
        "colab": {
          "base_uri": "https://localhost:8080/"
        },
        "id": "rB3DJodPgQiw",
        "outputId": "a4f375c1-2c49-4918-8d2b-fb3c9f585547"
      },
      "execution_count": 36,
      "outputs": [
        {
          "output_type": "stream",
          "name": "stdout",
          "text": [
            "{'Delhi': 800, 'UP': 400, 'Haryana': 250, 'delhi': 800}\n"
          ]
        }
      ]
    },
    {
      "cell_type": "code",
      "source": [
        "#create population data for Goa\n",
        "state_wise_data['Goa']=80\n",
        "print(state_wise_data)"
      ],
      "metadata": {
        "colab": {
          "base_uri": "https://localhost:8080/"
        },
        "id": "WUeqguTfgYHa",
        "outputId": "fe0c02f3-8a98-43d6-ea50-8e97e395bba8"
      },
      "execution_count": 37,
      "outputs": [
        {
          "output_type": "stream",
          "name": "stdout",
          "text": [
            "{'Delhi': 800, 'UP': 400, 'Haryana': 250, 'delhi': 800, 'Goa': 80}\n"
          ]
        }
      ]
    },
    {
      "cell_type": "code",
      "source": [
        "student={\n",
        "    'name':\"Adam\",\n",
        "    'age':17,\n",
        "    'marks':95\n",
        "}\n",
        "print(student)"
      ],
      "metadata": {
        "colab": {
          "base_uri": "https://localhost:8080/"
        },
        "id": "2eA-LX49hPo8",
        "outputId": "dfb02fa6-6c1f-46f7-a086-c77069b22695"
      },
      "execution_count": 40,
      "outputs": [
        {
          "output_type": "stream",
          "name": "stdout",
          "text": [
            "{'name': 'Adam', 'age': 17, 'marks': 95}\n"
          ]
        }
      ]
    },
    {
      "cell_type": "code",
      "source": [
        "student.update({'name':\"Adam Joe\",\n",
        "                'age':17,\n",
        "                'marks':97,\n",
        "                'class':10})\n",
        "print(student)"
      ],
      "metadata": {
        "colab": {
          "base_uri": "https://localhost:8080/",
          "height": 253
        },
        "id": "nW8tym3yiXgM",
        "outputId": "a686d7dd-05c8-4c8f-f59c-33707b7e0f43"
      },
      "execution_count": 38,
      "outputs": [
        {
          "output_type": "error",
          "ename": "NameError",
          "evalue": "name 'student' is not defined",
          "traceback": [
            "\u001b[0;31m---------------------------------------------------------------------------\u001b[0m",
            "\u001b[0;31mNameError\u001b[0m                                 Traceback (most recent call last)",
            "\u001b[0;32m<ipython-input-38-6e39e21fe5f3>\u001b[0m in \u001b[0;36m<cell line: 1>\u001b[0;34m()\u001b[0m\n\u001b[0;32m----> 1\u001b[0;31m student.update({'name':\"Adam Joe\",\n\u001b[0m\u001b[1;32m      2\u001b[0m                 \u001b[0;34m'age'\u001b[0m\u001b[0;34m:\u001b[0m\u001b[0;36m17\u001b[0m\u001b[0;34m,\u001b[0m\u001b[0;34m\u001b[0m\u001b[0;34m\u001b[0m\u001b[0m\n\u001b[1;32m      3\u001b[0m                 \u001b[0;34m'marks'\u001b[0m\u001b[0;34m:\u001b[0m\u001b[0;36m97\u001b[0m\u001b[0;34m,\u001b[0m\u001b[0;34m\u001b[0m\u001b[0;34m\u001b[0m\u001b[0m\n\u001b[1;32m      4\u001b[0m                 'class':10})\n\u001b[1;32m      5\u001b[0m \u001b[0mprint\u001b[0m\u001b[0;34m(\u001b[0m\u001b[0mstudent\u001b[0m\u001b[0;34m)\u001b[0m\u001b[0;34m\u001b[0m\u001b[0;34m\u001b[0m\u001b[0m\n",
            "\u001b[0;31mNameError\u001b[0m: name 'student' is not defined"
          ]
        }
      ]
    },
    {
      "cell_type": "code",
      "source": [
        "random={\n",
        "    'a':10,\n",
        "    'b':20,\n",
        "    'c':30\n",
        "}"
      ],
      "metadata": {
        "id": "j_cdGPwxivJ6"
      },
      "execution_count": 39,
      "outputs": []
    },
    {
      "cell_type": "code",
      "source": [
        "random['d']"
      ],
      "metadata": {
        "colab": {
          "base_uri": "https://localhost:8080/",
          "height": 181
        },
        "id": "RJK-aG53jVx6",
        "outputId": "2fb41e4f-4f18-4740-df87-269d510bbed8"
      },
      "execution_count": 40,
      "outputs": [
        {
          "output_type": "error",
          "ename": "KeyError",
          "evalue": "'d'",
          "traceback": [
            "\u001b[0;31m---------------------------------------------------------------------------\u001b[0m",
            "\u001b[0;31mKeyError\u001b[0m                                  Traceback (most recent call last)",
            "\u001b[0;32m<ipython-input-40-5cb17989f0e0>\u001b[0m in \u001b[0;36m<cell line: 1>\u001b[0;34m()\u001b[0m\n\u001b[0;32m----> 1\u001b[0;31m \u001b[0mrandom\u001b[0m\u001b[0;34m[\u001b[0m\u001b[0;34m'd'\u001b[0m\u001b[0;34m]\u001b[0m\u001b[0;34m\u001b[0m\u001b[0;34m\u001b[0m\u001b[0m\n\u001b[0m",
            "\u001b[0;31mKeyError\u001b[0m: 'd'"
          ]
        }
      ]
    },
    {
      "cell_type": "code",
      "source": [
        "#return the value for key if key is in the dictionary,else default.\n",
        "print(random.get('c')) #random['c']\n",
        "print(random.get('f')) #f do not exist so we get None as output"
      ],
      "metadata": {
        "colab": {
          "base_uri": "https://localhost:8080/"
        },
        "id": "ci4jhznCjYGt",
        "outputId": "a2352634-476e-4de8-cd35-6e86f60542eb"
      },
      "execution_count": 41,
      "outputs": [
        {
          "output_type": "stream",
          "name": "stdout",
          "text": [
            "30\n",
            "None\n"
          ]
        }
      ]
    },
    {
      "cell_type": "code",
      "source": [
        "# random['d'] - is considered not suitable because it will give error\n",
        "# random.get('query','ans')\n",
        "# For example \"f\" key is not present so it return ans = Not found\n",
        "#             \"c\" key is present so it return ans=\"30\"\n",
        "random={\n",
        "    'a':10,\n",
        "    'b':20,\n",
        "    'c':30\n",
        "}\n",
        "result=random.get('f',\"Not found\")\n",
        "result1=random.get('c',\"Not found\")\n",
        "print(result,\",\",result1)"
      ],
      "metadata": {
        "colab": {
          "base_uri": "https://localhost:8080/"
        },
        "id": "a2svvzInkLQK",
        "outputId": "3c8af957-fb9e-42b0-cfe1-d8d2304af24d"
      },
      "execution_count": 42,
      "outputs": [
        {
          "output_type": "stream",
          "name": "stdout",
          "text": [
            "Not found , 30\n"
          ]
        }
      ]
    },
    {
      "cell_type": "code",
      "source": [
        "random.pop?"
      ],
      "metadata": {
        "id": "TPOIi3PAnlFb"
      },
      "execution_count": 43,
      "outputs": []
    },
    {
      "cell_type": "code",
      "source": [
        "deleted_item=random.pop(\"b\")\n",
        "print(deleted_item)"
      ],
      "metadata": {
        "colab": {
          "base_uri": "https://localhost:8080/"
        },
        "id": "VTOHCntaFPkd",
        "outputId": "0756b748-0a91-40be-eac8-02c23d872584"
      },
      "execution_count": 44,
      "outputs": [
        {
          "output_type": "stream",
          "name": "stdout",
          "text": [
            "20\n"
          ]
        }
      ]
    },
    {
      "cell_type": "code",
      "source": [
        "random"
      ],
      "metadata": {
        "colab": {
          "base_uri": "https://localhost:8080/"
        },
        "id": "dvSS1K09FzTZ",
        "outputId": "c1e355b9-8757-4eb1-e6d1-4968804ddf5f"
      },
      "execution_count": 45,
      "outputs": [
        {
          "output_type": "execute_result",
          "data": {
            "text/plain": [
              "{'a': 10, 'c': 30}"
            ]
          },
          "metadata": {},
          "execution_count": 45
        }
      ]
    },
    {
      "cell_type": "code",
      "source": [
        "#Iteration\n",
        "state_wise_data={'Delhi': 800, 'UP': 400, 'Haryana': 250, 'delhi': 800, 'Goa': 80}\n",
        "state_wise_data\n",
        "state_wise_data.pop(\"delhi\")\n",
        "state_wise_data\n",
        "#to print keys of dictionary\n",
        "for ele in state_wise_data:\n",
        "  print(ele)\n",
        "print()\n",
        "for key in state_wise_data:\n",
        "  print(key)\n",
        "print()\n",
        "# to print values of dictionary\n",
        "for key in state_wise_data:\n",
        "  print(state_wise_data[key])\n",
        "# for key in state_wise_data:\n",
        "#   print(state_wise_data[\"key\"])\n",
        "#❌❌❌ Error- because key is not present in dictionary\n",
        "print()\n",
        "#To print key and values together\n",
        "for key in state_wise_data:\n",
        "  print(key,\"-\",state_wise_data[key])"
      ],
      "metadata": {
        "colab": {
          "base_uri": "https://localhost:8080/"
        },
        "id": "P6sTgMPTGBKH",
        "outputId": "31c4c6d6-5d60-4e63-a957-fcbe3c8b4fa6"
      },
      "execution_count": 61,
      "outputs": [
        {
          "output_type": "stream",
          "name": "stdout",
          "text": [
            "Delhi\n",
            "UP\n",
            "Haryana\n",
            "Goa\n",
            "\n",
            "Delhi\n",
            "UP\n",
            "Haryana\n",
            "Goa\n",
            "\n",
            "800\n",
            "400\n",
            "250\n",
            "80\n",
            "\n",
            "Delhi - 800\n",
            "UP - 400\n",
            "Haryana - 250\n",
            "Goa - 80\n"
          ]
        }
      ]
    },
    {
      "cell_type": "code",
      "source": [
        "# Dictionary functions\n",
        "state_wise_data={'Delhi': 800, 'UP': 400, 'Haryana': 250, 'delhi': 800, 'Goa': 80}\n",
        "print(state_wise_data.keys())\n",
        "print()\n",
        "print(state_wise_data.values())\n",
        "print()\n",
        "# checking whether key exists or not\n",
        "print(\"delhi\" in state_wise_data.keys())\n",
        "print()\n",
        "#.items will give tuple like key:value pair\n",
        "print(state_wise_data.items())\n",
        "print()\n",
        "# if we do not want in tuple form and we want individual key:value pair\n",
        "for k,v in state_wise_data.items():\n",
        "  print(k,v)"
      ],
      "metadata": {
        "colab": {
          "base_uri": "https://localhost:8080/"
        },
        "id": "MsB80ZGnJ8wM",
        "outputId": "dcbe2d5b-352a-4c9b-d08a-d3dfdcfdedf7"
      },
      "execution_count": 79,
      "outputs": [
        {
          "output_type": "stream",
          "name": "stdout",
          "text": [
            "dict_keys(['Delhi', 'UP', 'Haryana', 'delhi', 'Goa'])\n",
            "\n",
            "dict_values([800, 400, 250, 800, 80])\n",
            "\n",
            "True\n",
            "\n",
            "dict_items([('Delhi', 800), ('UP', 400), ('Haryana', 250), ('delhi', 800), ('Goa', 80)])\n",
            "\n",
            "Delhi 800\n",
            "UP 400\n",
            "Haryana 250\n",
            "delhi 800\n",
            "Goa 80\n"
          ]
        }
      ]
    },
    {
      "cell_type": "code",
      "source": [
        "#print states with population >200\n",
        "for k,v in state_wise_data.items():\n",
        "  if v>200:\n",
        "    print(k,v)"
      ],
      "metadata": {
        "colab": {
          "base_uri": "https://localhost:8080/"
        },
        "id": "5DRfVATnNwj6",
        "outputId": "30a4ffe5-4603-4449-e0bb-39eb776bb10b"
      },
      "execution_count": 81,
      "outputs": [
        {
          "output_type": "stream",
          "name": "stdout",
          "text": [
            "Delhi 800\n",
            "UP 400\n",
            "Haryana 250\n",
            "delhi 800\n"
          ]
        }
      ]
    },
    {
      "cell_type": "code",
      "source": [
        "# Can we have any object of any datatype in dictionary??\n",
        "# Objects -keys 🔑Constraint⚠️- Immutable items only\n",
        "#                                Mutable items cannot be stored(L,S,D)\n",
        "#                                List,Set,Dictionaries\n",
        "#         -values 🟢No constraint- list,tuple,set,dictionary"
      ],
      "metadata": {
        "id": "0Dxf4EILRXUE"
      },
      "execution_count": 82,
      "outputs": []
    },
    {
      "cell_type": "code",
      "source": [
        "#💡keys are always unique, Values can be duplicate\n",
        "food_menu={\n",
        "    \"samosa\":20,\n",
        "    \"pizza\":200,\n",
        "    \"burger\":50,\n",
        "    \"juice\":[20,30,50]\n",
        "}\n",
        "print(food_menu['burger'])\n",
        "print(food_menu[\"juice\"])\n",
        "print(food_menu[\"juice\"][-1])#dictionary and juice indexing\n"
      ],
      "metadata": {
        "colab": {
          "base_uri": "https://localhost:8080/"
        },
        "id": "kFRpEXZSVkPR",
        "outputId": "1f13de95-628e-4f40-f53e-6ed324bf8adf"
      },
      "execution_count": 86,
      "outputs": [
        {
          "output_type": "stream",
          "name": "stdout",
          "text": [
            "50\n",
            "[20, 30, 50]\n",
            "50\n"
          ]
        }
      ]
    },
    {
      "cell_type": "code",
      "source": [
        "#Nested Dictionary\n",
        "food_menu1={\n",
        "    \"samosa\":20,\n",
        "    \"pizza\":200,\n",
        "    \"burger\":50,\n",
        "    \"juice\":[20,30,50],\n",
        "    \"fruits\":{\n",
        "        \"apple\":40,\n",
        "        \"mango\":80,\n",
        "        \"kiwi\":150}\n",
        "}"
      ],
      "metadata": {
        "id": "U1r9OtgGYPt8"
      },
      "execution_count": 92,
      "outputs": []
    },
    {
      "cell_type": "code",
      "source": [
        "food_menu1"
      ],
      "metadata": {
        "colab": {
          "base_uri": "https://localhost:8080/"
        },
        "id": "gnkieOIqcJ7A",
        "outputId": "bc4ce3c8-e705-4b9b-952f-5352001f8ba3"
      },
      "execution_count": 93,
      "outputs": [
        {
          "output_type": "execute_result",
          "data": {
            "text/plain": [
              "{'samosa': 20,\n",
              " 'pizza': 200,\n",
              " 'burger': 50,\n",
              " 'juice': [20, 30, 50],\n",
              " 'fruits': {'apple': 40, 'mango': 80, 'kiwi': 150}}"
            ]
          },
          "metadata": {},
          "execution_count": 93
        }
      ]
    },
    {
      "cell_type": "code",
      "source": [
        "food_menu1['fruits']['mango']"
      ],
      "metadata": {
        "colab": {
          "base_uri": "https://localhost:8080/"
        },
        "id": "xCm9MqwJcOoB",
        "outputId": "8cb0f3e1-d7e7-4e3f-a443-26f43df78d9a"
      },
      "execution_count": 94,
      "outputs": [
        {
          "output_type": "execute_result",
          "data": {
            "text/plain": [
              "80"
            ]
          },
          "metadata": {},
          "execution_count": 94
        }
      ]
    },
    {
      "cell_type": "code",
      "source": [
        "food_menu1.keys()"
      ],
      "metadata": {
        "colab": {
          "base_uri": "https://localhost:8080/"
        },
        "id": "-fAjf7jwhXBF",
        "outputId": "2f5a7d32-8ba8-47fc-b016-fa90700970da"
      },
      "execution_count": 95,
      "outputs": [
        {
          "output_type": "execute_result",
          "data": {
            "text/plain": [
              "dict_keys(['samosa', 'pizza', 'burger', 'juice', 'fruits'])"
            ]
          },
          "metadata": {},
          "execution_count": 95
        }
      ]
    },
    {
      "cell_type": "code",
      "source": [
        "#❓Is this a valid dictionary???\n",
        "random = {\n",
        "    \"key1\": [45, 56, 78],\n",
        "    \"key2\": {\n",
        "        \"key3\": (1, 2, 3)\n",
        "    },\n",
        "    45: \"value3\",\n",
        "    56.78: \"678\",\n",
        "    (1,2,3): \"random value\"\n",
        "}\n",
        "#Yes, because keys doest not contain List,Set,Dictionary\n",
        "#💡Generally we use string and integer in keys"
      ],
      "metadata": {
        "id": "NpDApNy7hp99"
      },
      "execution_count": 97,
      "outputs": []
    },
    {
      "cell_type": "code",
      "source": [
        "random"
      ],
      "metadata": {
        "colab": {
          "base_uri": "https://localhost:8080/"
        },
        "id": "OczUXxZoilJN",
        "outputId": "1a85460e-4571-4b37-afb2-616581c5d683"
      },
      "execution_count": 98,
      "outputs": [
        {
          "output_type": "execute_result",
          "data": {
            "text/plain": [
              "{'key1': [45, 56, 78],\n",
              " 'key2': {'key3': (1, 2, 3)},\n",
              " 45: 'value3',\n",
              " 56.78: '678',\n",
              " (1, 2, 3): 'random value'}"
            ]
          },
          "metadata": {},
          "execution_count": 98
        }
      ]
    },
    {
      "cell_type": "code",
      "source": [
        "#Question\n",
        "s=\"some random words in the sentence\"\n",
        "d={\n",
        "    'r':2,\n",
        "    'a':5,\n",
        "    't':3\n",
        "}"
      ],
      "metadata": {
        "id": "xywIWWBei0vS"
      },
      "execution_count": 99,
      "outputs": []
    },
    {
      "cell_type": "code",
      "source": [
        "s=\"rraaaaatt\"\n",
        "d={}\n",
        "for i in s:\n",
        "  if i in d:\n",
        "    d[i]=d[i]+1\n",
        "  else:\n",
        "    d[i]=1\n",
        "print(d)"
      ],
      "metadata": {
        "colab": {
          "base_uri": "https://localhost:8080/"
        },
        "id": "aLnD8ITrkoUi",
        "outputId": "0479ed62-3f48-43a4-acd6-7a6b8583d5ae"
      },
      "execution_count": 101,
      "outputs": [
        {
          "output_type": "stream",
          "name": "stdout",
          "text": [
            "{'r': 2, 'a': 5, 't': 2}\n"
          ]
        }
      ]
    },
    {
      "cell_type": "code",
      "source": [
        "#2\n",
        "s=\"rraaaaatt\"\n",
        "d={}\n",
        "for i in set(s):\n",
        "  d[i]=s.count(i)\n",
        "print(d)"
      ],
      "metadata": {
        "colab": {
          "base_uri": "https://localhost:8080/"
        },
        "id": "OOP0uEE7k2Nn",
        "outputId": "38cbf3f9-26a2-443a-aa6b-213e963a4b3c"
      },
      "execution_count": 102,
      "outputs": [
        {
          "output_type": "stream",
          "name": "stdout",
          "text": [
            "{'t': 2, 'r': 2, 'a': 5}\n"
          ]
        }
      ]
    },
    {
      "cell_type": "code",
      "source": [],
      "metadata": {
        "id": "6jwez-xImdBD"
      },
      "execution_count": null,
      "outputs": []
    }
  ]
}
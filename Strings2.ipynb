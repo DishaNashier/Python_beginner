{
  "nbformat": 4,
  "nbformat_minor": 0,
  "metadata": {
    "colab": {
      "provenance": []
    },
    "kernelspec": {
      "name": "python3",
      "display_name": "Python 3"
    },
    "language_info": {
      "name": "python"
    }
  },
  "cells": [
    {
      "cell_type": "markdown",
      "source": [
        "STRING additional methods\n",
        "1.\"\".split()\n",
        "2.\"\".join\n",
        "3.\"\".replace()\n",
        "4.\"\".isdigit()\n",
        "5. \"\".isaplha()\n",
        "6. \"\".isupper()\n",
        "7.\"\".islower()\n",
        "8. \"\".isspace\n",
        "9. \"\".startswith()\n",
        "10. \"\".endswith()\n",
        "11. \"\".find()\n",
        "12. \"\".index() #use find in string use index in list"
      ],
      "metadata": {
        "id": "RXBOk-8crQMu"
      }
    },
    {
      "cell_type": "code",
      "source": [
        "#print characters that are present at even index positions\n",
        "message = \"Hello World!\"\n",
        "i = 0\n",
        "while i < len(message):\n",
        "    if i % 2 == 0:\n",
        "        print(message[i], end = \"\")\n",
        "    i += 1"
      ],
      "metadata": {
        "colab": {
          "base_uri": "https://localhost:8080/"
        },
        "id": "c1epk7dcwojb",
        "outputId": "dc97ccb7-7059-47c1-cf8d-cb45c8d60e4f"
      },
      "execution_count": null,
      "outputs": [
        {
          "output_type": "stream",
          "name": "stdout",
          "text": [
            "HloWrd"
          ]
        }
      ]
    },
    {
      "cell_type": "code",
      "source": [
        "# str methods\n",
        "#split\n",
        "\"1 2 3 4 5 6\".split()"
      ],
      "metadata": {
        "colab": {
          "base_uri": "https://localhost:8080/"
        },
        "id": "vZ5o1fuTW0z2",
        "outputId": "39b14e03-36c0-4aa2-8c6c-037fccc4e1f5"
      },
      "execution_count": null,
      "outputs": [
        {
          "output_type": "execute_result",
          "data": {
            "text/plain": [
              "['1', '2', '3', '4', '5', '6']"
            ]
          },
          "metadata": {},
          "execution_count": 5
        }
      ]
    },
    {
      "cell_type": "code",
      "source": [
        "\"1 2 3 4 55 66\".split(\"5\")"
      ],
      "metadata": {
        "colab": {
          "base_uri": "https://localhost:8080/"
        },
        "id": "VTTDSJiQXEDh",
        "outputId": "3576a2a5-1bac-4f4c-b7ef-51cddffa594f"
      },
      "execution_count": null,
      "outputs": [
        {
          "output_type": "execute_result",
          "data": {
            "text/plain": [
              "['1 2 3 4 ', '', ' 66']"
            ]
          },
          "metadata": {},
          "execution_count": 6
        }
      ]
    },
    {
      "cell_type": "code",
      "source": [
        "#default space happens on white space, this is not same as space\n",
        "\"1 2  3   4\".split()"
      ],
      "metadata": {
        "colab": {
          "base_uri": "https://localhost:8080/"
        },
        "id": "D65DhvKPYfKu",
        "outputId": "573e2e2f-66f9-40c0-dc47-dfcd574896cb"
      },
      "execution_count": null,
      "outputs": [
        {
          "output_type": "execute_result",
          "data": {
            "text/plain": [
              "['1', '2', '3', '4']"
            ]
          },
          "metadata": {},
          "execution_count": 7
        }
      ]
    },
    {
      "cell_type": "code",
      "source": [
        "\"1 2  3   4\".split(' ')"
      ],
      "metadata": {
        "colab": {
          "base_uri": "https://localhost:8080/"
        },
        "id": "xP3Y0hwmY5eM",
        "outputId": "4d0b5e0f-334e-44e2-eaf4-70a1d0fb834a"
      },
      "execution_count": null,
      "outputs": [
        {
          "output_type": "execute_result",
          "data": {
            "text/plain": [
              "['1', '2', '', '3', '', '', '4']"
            ]
          },
          "metadata": {},
          "execution_count": 8
        }
      ]
    },
    {
      "cell_type": "code",
      "source": [
        "\"this is a random str\".split()"
      ],
      "metadata": {
        "colab": {
          "base_uri": "https://localhost:8080/"
        },
        "id": "aRR1ikXhkfEJ",
        "outputId": "e8826ea8-777f-458d-efa6-1e1f5e43eb5f"
      },
      "execution_count": null,
      "outputs": [
        {
          "output_type": "execute_result",
          "data": {
            "text/plain": [
              "['this', 'is', 'a', 'random', 'str']"
            ]
          },
          "metadata": {},
          "execution_count": 1
        }
      ]
    },
    {
      "cell_type": "code",
      "source": [
        "#join str,list,list of str>str\n",
        "\"-\".join(['this', 'is', 'a', 'random', 'str'])"
      ],
      "metadata": {
        "colab": {
          "base_uri": "https://localhost:8080/",
          "height": 36
        },
        "id": "c8bwnW63V9A2",
        "outputId": "0c4ca966-5651-4f37-9fa5-03afc08c356d"
      },
      "execution_count": null,
      "outputs": [
        {
          "output_type": "execute_result",
          "data": {
            "text/plain": [
              "'this-is-a-random-str'"
            ],
            "application/vnd.google.colaboratory.intrinsic+json": {
              "type": "string"
            }
          },
          "metadata": {},
          "execution_count": 3
        }
      ]
    },
    {
      "cell_type": "code",
      "source": [
        "\"2\".join(['this', 'is', 'a', 'random', 'str'])"
      ],
      "metadata": {
        "colab": {
          "base_uri": "https://localhost:8080/",
          "height": 36
        },
        "id": "rtjp0P9ZWguH",
        "outputId": "a17fced2-6323-45bb-a42b-8b0fb600e00e"
      },
      "execution_count": null,
      "outputs": [
        {
          "output_type": "execute_result",
          "data": {
            "text/plain": [
              "'this2is2a2random2str'"
            ],
            "application/vnd.google.colaboratory.intrinsic+json": {
              "type": "string"
            }
          },
          "metadata": {},
          "execution_count": 4
        }
      ]
    },
    {
      "cell_type": "code",
      "source": [
        "#find # find and give index location of substring\n",
        "#if substring is not present it will give -1"
      ],
      "metadata": {
        "id": "LPeMPXZdWiu9"
      },
      "execution_count": null,
      "outputs": []
    },
    {
      "cell_type": "code",
      "source": [
        "\"this is a random string\".find(\"is\")"
      ],
      "metadata": {
        "colab": {
          "base_uri": "https://localhost:8080/"
        },
        "id": "f6q0uudqXSP8",
        "outputId": "29a3e6a7-911a-4df7-9fb0-9529c3dc0cc0"
      },
      "execution_count": null,
      "outputs": [
        {
          "output_type": "execute_result",
          "data": {
            "text/plain": [
              "2"
            ]
          },
          "metadata": {},
          "execution_count": 6
        }
      ]
    },
    {
      "cell_type": "code",
      "source": [
        "\"this is a random string\".find(\"apple\")"
      ],
      "metadata": {
        "colab": {
          "base_uri": "https://localhost:8080/"
        },
        "id": "C8OLJaB6XXwz",
        "outputId": "d87aeebb-a886-40ee-d7e9-d0c1b70e5a03"
      },
      "execution_count": null,
      "outputs": [
        {
          "output_type": "execute_result",
          "data": {
            "text/plain": [
              "-1"
            ]
          },
          "metadata": {},
          "execution_count": 7
        }
      ]
    },
    {
      "cell_type": "code",
      "source": [
        "#replace"
      ],
      "metadata": {
        "id": "HNn4j4pFXv1G"
      },
      "execution_count": null,
      "outputs": []
    },
    {
      "cell_type": "code",
      "source": [
        "\"this is a random str that I randomly create on a Random Day\".replace(\"random\",\"SUPER random\")"
      ],
      "metadata": {
        "colab": {
          "base_uri": "https://localhost:8080/",
          "height": 36
        },
        "id": "p_cbqMhnYRIJ",
        "outputId": "aec8b3bf-7e98-418f-d746-76fb8fbb1377"
      },
      "execution_count": null,
      "outputs": [
        {
          "output_type": "execute_result",
          "data": {
            "text/plain": [
              "'this is a SUPER random str that I SUPER randomly create on a Random Day'"
            ],
            "application/vnd.google.colaboratory.intrinsic+json": {
              "type": "string"
            }
          },
          "metadata": {},
          "execution_count": 10
        }
      ]
    },
    {
      "cell_type": "code",
      "source": [
        "#count"
      ],
      "metadata": {
        "id": "7TmHA1onZVC3"
      },
      "execution_count": null,
      "outputs": []
    },
    {
      "cell_type": "code",
      "source": [
        "\"this is a random str that I randomly create on a Random day\".lower().count(\"random\")"
      ],
      "metadata": {
        "colab": {
          "base_uri": "https://localhost:8080/"
        },
        "id": "yfbjkye4ZrjV",
        "outputId": "7a7739c8-c36c-410e-ce48-6fa4e6edefbd"
      },
      "execution_count": null,
      "outputs": [
        {
          "output_type": "execute_result",
          "data": {
            "text/plain": [
              "3"
            ]
          },
          "metadata": {},
          "execution_count": 14
        }
      ]
    },
    {
      "cell_type": "code",
      "source": [
        "#QUESTION- convert to lower character string without using builtin lower function\n",
        "#1\n",
        "user_str='This is a stRIng'\n",
        "new_str=\"\"\n",
        "for i in user_str:\n",
        "  if ord(i) in range(ord(\"A\"),(ord(\"Z\")+1)):\n",
        "    i=chr(ord(i)+32)\n",
        "    new_str=new_str+i\n",
        "  else:\n",
        "    new_str=new_str+i\n",
        "print(new_str)"
      ],
      "metadata": {
        "colab": {
          "base_uri": "https://localhost:8080/"
        },
        "id": "3jlVS3N1Z1yC",
        "outputId": "b7fd1cbc-ad16-4fb2-9f46-b5f1595502b8"
      },
      "execution_count": null,
      "outputs": [
        {
          "output_type": "stream",
          "name": "stdout",
          "text": [
            "this is a string\n"
          ]
        }
      ]
    },
    {
      "cell_type": "code",
      "source": [
        "#2\n",
        "user_str='This is a stRIng'\n",
        "new_str=\"\"\n",
        "for i in range(ord(\"A\"),(ord(\"Z\")+1)):\n",
        "  user_str=user_str.replace(chr(i),chr(i+32))\n",
        "print(user_str)"
      ],
      "metadata": {
        "id": "736m3xSGe714",
        "colab": {
          "base_uri": "https://localhost:8080/"
        },
        "outputId": "a7e2b5f9-9d97-4392-a894-e2e5452b4304"
      },
      "execution_count": null,
      "outputs": [
        {
          "output_type": "stream",
          "name": "stdout",
          "text": [
            "this is a string\n"
          ]
        }
      ]
    },
    {
      "cell_type": "code",
      "source": [
        "#isdigit"
      ],
      "metadata": {
        "id": "yAEVTla1m3IK"
      },
      "execution_count": null,
      "outputs": []
    },
    {
      "cell_type": "code",
      "source": [
        "\"5\".isdigit()"
      ],
      "metadata": {
        "colab": {
          "base_uri": "https://localhost:8080/"
        },
        "id": "8atgUOsEnNey",
        "outputId": "481fa69d-9e88-4605-896f-57d287bfd829"
      },
      "execution_count": null,
      "outputs": [
        {
          "output_type": "execute_result",
          "data": {
            "text/plain": [
              "True"
            ]
          },
          "metadata": {},
          "execution_count": 34
        }
      ]
    },
    {
      "cell_type": "code",
      "source": [
        "\"567\".isdigit()"
      ],
      "metadata": {
        "colab": {
          "base_uri": "https://localhost:8080/"
        },
        "id": "WX7-XVRsnY2M",
        "outputId": "7077aadb-ccf9-426c-ddd4-fbc5c40752aa"
      },
      "execution_count": null,
      "outputs": [
        {
          "output_type": "execute_result",
          "data": {
            "text/plain": [
              "True"
            ]
          },
          "metadata": {},
          "execution_count": 32
        }
      ]
    },
    {
      "cell_type": "code",
      "source": [
        "\"Ab567\".isdigit()"
      ],
      "metadata": {
        "colab": {
          "base_uri": "https://localhost:8080/"
        },
        "id": "KAQV8WuZndlj",
        "outputId": "ffcf315a-7362-43fc-af88-b1da78270000"
      },
      "execution_count": null,
      "outputs": [
        {
          "output_type": "execute_result",
          "data": {
            "text/plain": [
              "False"
            ]
          },
          "metadata": {},
          "execution_count": 35
        }
      ]
    },
    {
      "cell_type": "code",
      "source": [
        "# isalpha #True if all characters are alphabet letters(a-z,A-Z)"
      ],
      "metadata": {
        "id": "GU2Lmlein1Lr"
      },
      "execution_count": null,
      "outputs": []
    },
    {
      "cell_type": "code",
      "source": [
        "\"5\".isalpha()"
      ],
      "metadata": {
        "colab": {
          "base_uri": "https://localhost:8080/"
        },
        "id": "lYNZu_T8n_hO",
        "outputId": "8a40caf6-9e10-49dd-afa5-f7b0fcc202ce"
      },
      "execution_count": null,
      "outputs": [
        {
          "output_type": "execute_result",
          "data": {
            "text/plain": [
              "False"
            ]
          },
          "metadata": {},
          "execution_count": 38
        }
      ]
    },
    {
      "cell_type": "code",
      "source": [
        "\"567\".isalpha()"
      ],
      "metadata": {
        "colab": {
          "base_uri": "https://localhost:8080/"
        },
        "id": "cO_eIciFoDFy",
        "outputId": "9ddb89de-01c8-43fe-a7bb-eec8e01b2200"
      },
      "execution_count": null,
      "outputs": [
        {
          "output_type": "execute_result",
          "data": {
            "text/plain": [
              "False"
            ]
          },
          "metadata": {},
          "execution_count": 40
        }
      ]
    },
    {
      "cell_type": "code",
      "source": [
        "\"Ab567\".isalpha()"
      ],
      "metadata": {
        "colab": {
          "base_uri": "https://localhost:8080/"
        },
        "id": "Pp0OVKimoPoc",
        "outputId": "ef197832-a8b4-4ad1-f30f-bb619d58ac03"
      },
      "execution_count": null,
      "outputs": [
        {
          "output_type": "execute_result",
          "data": {
            "text/plain": [
              "False"
            ]
          },
          "metadata": {},
          "execution_count": 42
        }
      ]
    },
    {
      "cell_type": "code",
      "source": [
        "\"Ab\".isalpha()"
      ],
      "metadata": {
        "colab": {
          "base_uri": "https://localhost:8080/"
        },
        "id": "IK6FWageoU4i",
        "outputId": "4ccfd857-30c3-4d4b-b767-d0ba88149ea0"
      },
      "execution_count": null,
      "outputs": [
        {
          "output_type": "execute_result",
          "data": {
            "text/plain": [
              "True"
            ]
          },
          "metadata": {},
          "execution_count": 44
        }
      ]
    },
    {
      "cell_type": "code",
      "source": [
        "#isupper and islower"
      ],
      "metadata": {
        "id": "SMyRneivoh56"
      },
      "execution_count": null,
      "outputs": []
    },
    {
      "cell_type": "code",
      "source": [
        "\n",
        "\n"
      ],
      "metadata": {
        "id": "XHU5nKe9o6mC"
      },
      "execution_count": null,
      "outputs": []
    },
    {
      "cell_type": "code",
      "source": [
        "\"A\".isupper()"
      ],
      "metadata": {
        "colab": {
          "base_uri": "https://localhost:8080/"
        },
        "id": "iNewAcKCpyei",
        "outputId": "f91c0f9f-b37b-4e58-c293-b109d0812bfa"
      },
      "execution_count": null,
      "outputs": [
        {
          "output_type": "execute_result",
          "data": {
            "text/plain": [
              "True"
            ]
          },
          "metadata": {},
          "execution_count": 46
        }
      ]
    },
    {
      "cell_type": "code",
      "source": [
        "\"ABC\".isupper()"
      ],
      "metadata": {
        "colab": {
          "base_uri": "https://localhost:8080/"
        },
        "id": "h0vp-XBfp2yN",
        "outputId": "b7ff08bf-8db9-4f81-ccff-05e16ce51f17"
      },
      "execution_count": null,
      "outputs": [
        {
          "output_type": "execute_result",
          "data": {
            "text/plain": [
              "True"
            ]
          },
          "metadata": {},
          "execution_count": 47
        }
      ]
    },
    {
      "cell_type": "code",
      "source": [
        "\"AbC\".isupper()"
      ],
      "metadata": {
        "colab": {
          "base_uri": "https://localhost:8080/"
        },
        "id": "1qezAMmSqCLA",
        "outputId": "56e1d6b2-15f4-4940-cb8c-34a722ca4078"
      },
      "execution_count": null,
      "outputs": [
        {
          "output_type": "execute_result",
          "data": {
            "text/plain": [
              "False"
            ]
          },
          "metadata": {},
          "execution_count": 48
        }
      ]
    },
    {
      "cell_type": "code",
      "source": [
        "\"ABC123\".isupper()"
      ],
      "metadata": {
        "colab": {
          "base_uri": "https://localhost:8080/"
        },
        "id": "cyjf04ZlqKXO",
        "outputId": "857b88cf-7f78-4a16-bff6-1c001f573811"
      },
      "execution_count": null,
      "outputs": [
        {
          "output_type": "execute_result",
          "data": {
            "text/plain": [
              "True"
            ]
          },
          "metadata": {},
          "execution_count": 49
        }
      ]
    },
    {
      "cell_type": "code",
      "source": [
        "\"abc\".islower()"
      ],
      "metadata": {
        "colab": {
          "base_uri": "https://localhost:8080/"
        },
        "id": "f6FZ1IBhqVU_",
        "outputId": "cc5d9de9-1508-4cdf-c9e8-2086cd9e4edc"
      },
      "execution_count": null,
      "outputs": [
        {
          "output_type": "execute_result",
          "data": {
            "text/plain": [
              "True"
            ]
          },
          "metadata": {},
          "execution_count": 50
        }
      ]
    },
    {
      "cell_type": "code",
      "source": [
        "#isspace"
      ],
      "metadata": {
        "id": "Ox9eYh9cqhDu"
      },
      "execution_count": null,
      "outputs": []
    },
    {
      "cell_type": "code",
      "source": [
        "\" \".isspace()"
      ],
      "metadata": {
        "colab": {
          "base_uri": "https://localhost:8080/"
        },
        "id": "GXmJmMvdqm8e",
        "outputId": "3579e528-33e7-4aab-9938-aae0b7448223"
      },
      "execution_count": null,
      "outputs": [
        {
          "output_type": "execute_result",
          "data": {
            "text/plain": [
              "True"
            ]
          },
          "metadata": {},
          "execution_count": 54
        }
      ]
    },
    {
      "cell_type": "code",
      "source": [
        "\"         \".isspace()"
      ],
      "metadata": {
        "colab": {
          "base_uri": "https://localhost:8080/"
        },
        "id": "7feAHRzkq8Ux",
        "outputId": "13f1ccc2-c2d4-40cf-d9da-20986318061f"
      },
      "execution_count": null,
      "outputs": [
        {
          "output_type": "execute_result",
          "data": {
            "text/plain": [
              "True"
            ]
          },
          "metadata": {},
          "execution_count": 55
        }
      ]
    },
    {
      "cell_type": "code",
      "source": [
        "\"a b c\".isspace()"
      ],
      "metadata": {
        "colab": {
          "base_uri": "https://localhost:8080/"
        },
        "id": "4IP4rI53rApa",
        "outputId": "b621fdc7-5540-4eed-b356-4aa992a4ab01"
      },
      "execution_count": null,
      "outputs": [
        {
          "output_type": "execute_result",
          "data": {
            "text/plain": [
              "False"
            ]
          },
          "metadata": {},
          "execution_count": 56
        }
      ]
    },
    {
      "cell_type": "code",
      "source": [
        "#Question\n",
        "#Take a string as input\n",
        "#Replace all the space with underscore"
      ],
      "metadata": {
        "id": "iYe2jJ6MrOEN"
      },
      "execution_count": null,
      "outputs": []
    },
    {
      "cell_type": "code",
      "source": [
        "user_string=\" This is a random string\"\n",
        "user_string.replace(\" \",\"_\")"
      ],
      "metadata": {
        "colab": {
          "base_uri": "https://localhost:8080/",
          "height": 36
        },
        "id": "Y3_jrvbJsYFk",
        "outputId": "af557ebc-498a-4618-d59d-3c62a0df1f71"
      },
      "execution_count": null,
      "outputs": [
        {
          "output_type": "execute_result",
          "data": {
            "text/plain": [
              "'_This_is_a_random_string'"
            ],
            "application/vnd.google.colaboratory.intrinsic+json": {
              "type": "string"
            }
          },
          "metadata": {},
          "execution_count": 57
        }
      ]
    },
    {
      "cell_type": "code",
      "source": [
        "#startwith\n",
        "print(\"a string starts with a specific sub str\".startswith(\"a str\"))"
      ],
      "metadata": {
        "colab": {
          "base_uri": "https://localhost:8080/"
        },
        "id": "ts2_O44NtWKh",
        "outputId": "1d876044-c119-4936-9d2e-0e2675229f9d"
      },
      "execution_count": null,
      "outputs": [
        {
          "output_type": "stream",
          "name": "stdout",
          "text": [
            "True\n"
          ]
        }
      ]
    },
    {
      "cell_type": "code",
      "source": [
        "#startwith\n",
        "print(\"a string starts with a specific sub str\".startswith(\"123\"))"
      ],
      "metadata": {
        "colab": {
          "base_uri": "https://localhost:8080/"
        },
        "id": "Hdn6Lck0t2F8",
        "outputId": "8d7c1e1f-42a5-4e4a-e68a-b0aa1239d496"
      },
      "execution_count": null,
      "outputs": [
        {
          "output_type": "stream",
          "name": "stdout",
          "text": [
            "False\n"
          ]
        }
      ]
    },
    {
      "cell_type": "code",
      "source": [
        "# .endswith\n",
        "print(\"a string starts with a specific sub str\".endswith('str'))"
      ],
      "metadata": {
        "colab": {
          "base_uri": "https://localhost:8080/"
        },
        "id": "LdsytsJ2t5vk",
        "outputId": "8a6bad2f-2086-4f80-b0a3-1f86d105d6a0"
      },
      "execution_count": null,
      "outputs": [
        {
          "output_type": "stream",
          "name": "stdout",
          "text": [
            "True\n"
          ]
        }
      ]
    },
    {
      "cell_type": "code",
      "source": [
        "print(\"a string starts with a specific sub str\".endswith('abc'))"
      ],
      "metadata": {
        "colab": {
          "base_uri": "https://localhost:8080/"
        },
        "id": "iWNRwYb2uiZU",
        "outputId": "082aa1b1-ff3c-4baa-be2d-de2f6404f3f0"
      },
      "execution_count": null,
      "outputs": [
        {
          "output_type": "stream",
          "name": "stdout",
          "text": [
            "False\n"
          ]
        }
      ]
    },
    {
      "cell_type": "code",
      "source": [
        "#index\n",
        "\"this is a str\".index(\"str\")"
      ],
      "metadata": {
        "colab": {
          "base_uri": "https://localhost:8080/"
        },
        "id": "nQUxC-5yuo49",
        "outputId": "5081a845-2bc9-4bd9-a1d8-bfe7c04c6845"
      },
      "execution_count": null,
      "outputs": [
        {
          "output_type": "execute_result",
          "data": {
            "text/plain": [
              "10"
            ]
          },
          "metadata": {},
          "execution_count": 66
        }
      ]
    },
    {
      "cell_type": "code",
      "source": [
        "#Quick Search\n",
        "print(\"apple\"in \"an apple a day\")"
      ],
      "metadata": {
        "colab": {
          "base_uri": "https://localhost:8080/"
        },
        "id": "aNc-Tnbfxzho",
        "outputId": "7000ea25-ab8f-4cb5-d95d-a5a3a982c0f0"
      },
      "execution_count": null,
      "outputs": [
        {
          "output_type": "stream",
          "name": "stdout",
          "text": [
            "True\n"
          ]
        }
      ]
    },
    {
      "cell_type": "code",
      "source": [
        "print(\"doctor\"in \"an apple a day\")"
      ],
      "metadata": {
        "colab": {
          "base_uri": "https://localhost:8080/"
        },
        "id": "5wZIoP5gx639",
        "outputId": "77fd2bd7-91d3-463d-b3ff-6320fa489bc1"
      },
      "execution_count": null,
      "outputs": [
        {
          "output_type": "stream",
          "name": "stdout",
          "text": [
            "False\n"
          ]
        }
      ]
    },
    {
      "cell_type": "code",
      "source": [
        "#Mutability and immutability"
      ],
      "metadata": {
        "id": "toy0gHbSyAW9"
      },
      "execution_count": null,
      "outputs": []
    },
    {
      "cell_type": "code",
      "source": [
        "#lst is not primitive so its address doesnot change even if value changes\n",
        "lst=[1,2,3]\n",
        "print(lst,id(lst))\n",
        "lst[2]=100\n",
        "print(lst,id(lst))"
      ],
      "metadata": {
        "colab": {
          "base_uri": "https://localhost:8080/"
        },
        "id": "-A4CwcYtyWci",
        "outputId": "24fd13b8-f3a8-4e9a-baad-d0a93d4e82a2"
      },
      "execution_count": null,
      "outputs": [
        {
          "output_type": "stream",
          "name": "stdout",
          "text": [
            "[1, 2, 3] 132860683677248\n",
            "[1, 2, 100] 132860683677248\n"
          ]
        }
      ]
    },
    {
      "cell_type": "code",
      "source": [
        "#lst is primitive so its address changes if value changes\n",
        "integer=123456\n",
        "print(integer,id(integer))\n",
        "integer+=1\n",
        "print(integer,id(integer))"
      ],
      "metadata": {
        "colab": {
          "base_uri": "https://localhost:8080/"
        },
        "id": "EBSkwto1Db25",
        "outputId": "5e9bb7ed-7c94-4b9a-c4a7-1a77a9f637da"
      },
      "execution_count": null,
      "outputs": [
        {
          "output_type": "stream",
          "name": "stdout",
          "text": [
            "123456 132860835136720\n",
            "123457 132860835139152\n"
          ]
        }
      ]
    }
  ]
}
